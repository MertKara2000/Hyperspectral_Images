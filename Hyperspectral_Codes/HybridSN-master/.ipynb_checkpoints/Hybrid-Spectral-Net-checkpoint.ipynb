{
 "cells": [
  {
   "cell_type": "code",
   "execution_count": 1,
   "metadata": {},
   "outputs": [
    {
     "data": {
      "text/html": [
       "        <script type=\"text/javascript\">\n",
       "        window.PlotlyConfig = {MathJaxConfig: 'local'};\n",
       "        if (window.MathJax) {MathJax.Hub.Config({SVG: {font: \"STIX-Web\"}});}\n",
       "        if (typeof require !== 'undefined') {\n",
       "        require.undef(\"plotly\");\n",
       "        requirejs.config({\n",
       "            paths: {\n",
       "                'plotly': ['https://cdn.plot.ly/plotly-2.4.2.min']\n",
       "            }\n",
       "        });\n",
       "        require(['plotly'], function(Plotly) {\n",
       "            window._Plotly = Plotly;\n",
       "        });\n",
       "        }\n",
       "        </script>\n",
       "        "
      ]
     },
     "metadata": {},
     "output_type": "display_data"
    }
   ],
   "source": [
    "import keras\n",
    "from keras.layers import Conv2D, Conv3D, Flatten, Dense, Reshape, BatchNormalization\n",
    "from keras.layers import Dropout, Input\n",
    "from tensorflow.keras.models import Model\n",
    "from tensorflow.keras.optimizers import Adam\n",
    "from tensorflow.keras.callbacks import ModelCheckpoint\n",
    "from keras.utils import np_utils\n",
    "\n",
    "from sklearn.decomposition import PCA\n",
    "from sklearn.model_selection import train_test_split\n",
    "from sklearn.metrics import confusion_matrix, accuracy_score, classification_report, cohen_kappa_score\n",
    "\n",
    "from operator import truediv\n",
    "\n",
    "from plotly.offline import init_notebook_mode\n",
    "\n",
    "import numpy as np\n",
    "import matplotlib.pyplot as plt\n",
    "import scipy.io as sio\n",
    "import os\n",
    "import spectral\n",
    "\n",
    "init_notebook_mode(connected=True)\n",
    "%matplotlib inline"
   ]
  },
  {
   "cell_type": "markdown",
   "metadata": {},
   "source": [
    "# Data Loading"
   ]
  },
  {
   "cell_type": "code",
   "execution_count": 2,
   "metadata": {},
   "outputs": [],
   "source": [
    "## GLOBAL VARIABLES\n",
    "dataset = 'IP'\n",
    "test_ratio = 0.7\n",
    "windowSize = 25"
   ]
  },
  {
   "cell_type": "code",
   "execution_count": 3,
   "metadata": {},
   "outputs": [],
   "source": [
    "def loadData(name):\n",
    "    data_path = os.path.join(os.getcwd(),'data')\n",
    "    if name == 'IP':\n",
    "        data = sio.loadmat(os.path.join(data_path, 'Indian_pines_corrected.mat'))['indian_pines_corrected']\n",
    "        labels = sio.loadmat(os.path.join(data_path, 'Indian_pines_gt.mat'))['indian_pines_gt']\n",
    "    elif name == 'SA':\n",
    "        data = sio.loadmat(os.path.join(data_path, 'Salinas_corrected.mat'))['salinas_corrected']\n",
    "        labels = sio.loadmat(os.path.join(data_path, 'Salinas_gt.mat'))['salinas_gt']\n",
    "    elif name == 'PU':\n",
    "        data = sio.loadmat(os.path.join(data_path, 'PaviaU.mat'))['paviaU']\n",
    "        labels = sio.loadmat(os.path.join(data_path, 'PaviaU_gt.mat'))['paviaU_gt']\n",
    "    \n",
    "    return data, labels"
   ]
  },
  {
   "cell_type": "code",
   "execution_count": 4,
   "metadata": {},
   "outputs": [],
   "source": [
    "def splitTrainTestSet(X, y, testRatio, randomState=345):\n",
    "    X_train, X_test, y_train, y_test = train_test_split(X, y, test_size=testRatio, random_state=randomState,\n",
    "                                                        stratify=y)\n",
    "    return X_train, X_test, y_train, y_test"
   ]
  },
  {
   "cell_type": "code",
   "execution_count": 5,
   "metadata": {},
   "outputs": [],
   "source": [
    "def applyPCA(X, numComponents=75):\n",
    "    newX = np.reshape(X, (-1, X.shape[2]))\n",
    "    pca = PCA(n_components=numComponents, whiten=True)\n",
    "    newX = pca.fit_transform(newX)\n",
    "    newX = np.reshape(newX, (X.shape[0],X.shape[1], numComponents))\n",
    "    return newX, pca"
   ]
  },
  {
   "cell_type": "code",
   "execution_count": 6,
   "metadata": {},
   "outputs": [],
   "source": [
    "def padWithZeros(X, margin=2):\n",
    "    newX = np.zeros((X.shape[0] + 2 * margin, X.shape[1] + 2* margin, X.shape[2]))\n",
    "    x_offset = margin\n",
    "    y_offset = margin\n",
    "    newX[x_offset:X.shape[0] + x_offset, y_offset:X.shape[1] + y_offset, :] = X\n",
    "    return newX"
   ]
  },
  {
   "cell_type": "code",
   "execution_count": 7,
   "metadata": {},
   "outputs": [],
   "source": [
    "def createImageCubes(X, y, windowSize=5, removeZeroLabels = True):\n",
    "    margin = int((windowSize - 1) / 2)\n",
    "    zeroPaddedX = padWithZeros(X, margin=margin)\n",
    "    # split patches\n",
    "    patchesData = np.zeros((X.shape[0] * X.shape[1], windowSize, windowSize, X.shape[2]))\n",
    "    patchesLabels = np.zeros((X.shape[0] * X.shape[1]))\n",
    "    patchIndex = 0\n",
    "    for r in range(margin, zeroPaddedX.shape[0] - margin):\n",
    "        for c in range(margin, zeroPaddedX.shape[1] - margin):\n",
    "            patch = zeroPaddedX[r - margin:r + margin + 1, c - margin:c + margin + 1]   \n",
    "            patchesData[patchIndex, :, :, :] = patch\n",
    "            patchesLabels[patchIndex] = y[r-margin, c-margin]\n",
    "            patchIndex = patchIndex + 1\n",
    "    if removeZeroLabels:\n",
    "        patchesData = patchesData[patchesLabels>0,:,:,:]\n",
    "        patchesLabels = patchesLabels[patchesLabels>0]\n",
    "        patchesLabels -= 1\n",
    "    return patchesData, patchesLabels"
   ]
  },
  {
   "cell_type": "code",
   "execution_count": 8,
   "metadata": {},
   "outputs": [
    {
     "data": {
      "text/plain": [
       "((145, 145, 200), (145, 145))"
      ]
     },
     "execution_count": 8,
     "metadata": {},
     "output_type": "execute_result"
    }
   ],
   "source": [
    "X, y = loadData(dataset)\n",
    "\n",
    "X.shape, y.shape"
   ]
  },
  {
   "cell_type": "code",
   "execution_count": 9,
   "metadata": {},
   "outputs": [],
   "source": [
    "K = X.shape[2]"
   ]
  },
  {
   "cell_type": "code",
   "execution_count": 10,
   "metadata": {},
   "outputs": [
    {
     "data": {
      "text/plain": [
       "(145, 145, 30)"
      ]
     },
     "execution_count": 10,
     "metadata": {},
     "output_type": "execute_result"
    }
   ],
   "source": [
    "K = 30 if dataset == 'IP' else 15\n",
    "X,pca = applyPCA(X,numComponents=K)\n",
    "\n",
    "X.shape"
   ]
  },
  {
   "cell_type": "code",
   "execution_count": 11,
   "metadata": {},
   "outputs": [
    {
     "data": {
      "text/plain": [
       "((10249, 25, 25, 30), (10249,))"
      ]
     },
     "execution_count": 11,
     "metadata": {},
     "output_type": "execute_result"
    }
   ],
   "source": [
    "X, y = createImageCubes(X, y, windowSize=windowSize)\n",
    "\n",
    "X.shape, y.shape"
   ]
  },
  {
   "cell_type": "code",
   "execution_count": 12,
   "metadata": {},
   "outputs": [
    {
     "data": {
      "text/plain": [
       "((3074, 25, 25, 30), (7175, 25, 25, 30), (3074,), (7175,))"
      ]
     },
     "execution_count": 12,
     "metadata": {},
     "output_type": "execute_result"
    }
   ],
   "source": [
    "Xtrain, Xtest, ytrain, ytest = splitTrainTestSet(X, y, test_ratio)\n",
    "\n",
    "Xtrain.shape, Xtest.shape, ytrain.shape, ytest.shape"
   ]
  },
  {
   "cell_type": "markdown",
   "metadata": {},
   "source": [
    "Xtrain, Xvalid, ytrain, yvalid = splitTrainTestSet(Xtrain, ytrain, 0.3333)\n",
    "\n",
    "Xtrain.shape, Xvalid.shape, ytrain.shape, yvalid.shape"
   ]
  },
  {
   "cell_type": "markdown",
   "metadata": {},
   "source": [
    "# Model and Training"
   ]
  },
  {
   "cell_type": "code",
   "execution_count": 13,
   "metadata": {},
   "outputs": [
    {
     "data": {
      "text/plain": [
       "(3074, 25, 25, 30, 1)"
      ]
     },
     "execution_count": 13,
     "metadata": {},
     "output_type": "execute_result"
    }
   ],
   "source": [
    "Xtrain = Xtrain.reshape(-1, windowSize, windowSize, K, 1)\n",
    "Xtrain.shape"
   ]
  },
  {
   "cell_type": "code",
   "execution_count": 14,
   "metadata": {},
   "outputs": [
    {
     "data": {
      "text/plain": [
       "(3074, 16)"
      ]
     },
     "execution_count": 14,
     "metadata": {},
     "output_type": "execute_result"
    }
   ],
   "source": [
    "ytrain = np_utils.to_categorical(ytrain)\n",
    "ytrain.shape"
   ]
  },
  {
   "cell_type": "markdown",
   "metadata": {},
   "source": [
    "Xvalid = Xvalid.reshape(-1, windowSize, windowSize, K, 1)\n",
    "Xvalid.shape"
   ]
  },
  {
   "cell_type": "markdown",
   "metadata": {},
   "source": [
    "yvalid = np_utils.to_categorical(yvalid)\n",
    "yvalid.shape"
   ]
  },
  {
   "cell_type": "code",
   "execution_count": 15,
   "metadata": {},
   "outputs": [],
   "source": [
    "S = windowSize\n",
    "L = K\n",
    "output_units = 9 if (dataset == 'PU' or dataset == 'PC') else 16"
   ]
  },
  {
   "cell_type": "code",
   "execution_count": 16,
   "metadata": {},
   "outputs": [
    {
     "name": "stdout",
     "output_type": "stream",
     "text": [
      "(None, 19, 19, 18, 32)\n"
     ]
    }
   ],
   "source": [
    "## input layer\n",
    "input_layer = Input((S, S, L, 1))\n",
    "\n",
    "## convolutional layers\n",
    "conv_layer1 = Conv3D(filters=8, kernel_size=(3, 3, 7), activation='relu')(input_layer)\n",
    "conv_layer2 = Conv3D(filters=16, kernel_size=(3, 3, 5), activation='relu')(conv_layer1)\n",
    "conv_layer3 = Conv3D(filters=32, kernel_size=(3, 3, 3), activation='relu')(conv_layer2)\n",
    "print(conv_layer3.shape)\n",
    "conv3d_shape = conv_layer3.shape\n",
    "conv_layer3 = Reshape((conv3d_shape[1], conv3d_shape[2], conv3d_shape[3]*conv3d_shape[4]))(conv_layer3)\n",
    "conv_layer4 = Conv2D(filters=64, kernel_size=(3,3), activation='relu')(conv_layer3)\n",
    "\n",
    "flatten_layer = Flatten()(conv_layer4)\n",
    "\n",
    "## fully connected layers\n",
    "dense_layer1 = Dense(units=256, activation='relu')(flatten_layer)\n",
    "dense_layer1 = Dropout(0.4)(dense_layer1)\n",
    "dense_layer2 = Dense(units=128, activation='relu')(dense_layer1)\n",
    "dense_layer2 = Dropout(0.4)(dense_layer2)\n",
    "output_layer = Dense(units=output_units, activation='softmax')(dense_layer2)"
   ]
  },
  {
   "cell_type": "code",
   "execution_count": 17,
   "metadata": {},
   "outputs": [],
   "source": [
    "# define the model with input layer and output layer\n",
    "model = Model(inputs=input_layer, outputs=output_layer)"
   ]
  },
  {
   "cell_type": "code",
   "execution_count": 18,
   "metadata": {
    "collapsed": true,
    "jupyter": {
     "outputs_hidden": true
    },
    "tags": []
   },
   "outputs": [
    {
     "name": "stdout",
     "output_type": "stream",
     "text": [
      "Model: \"model\"\n",
      "_________________________________________________________________\n",
      "Layer (type)                 Output Shape              Param #   \n",
      "=================================================================\n",
      "input_1 (InputLayer)         [(None, 25, 25, 30, 1)]   0         \n",
      "_________________________________________________________________\n",
      "conv3d (Conv3D)              (None, 23, 23, 24, 8)     512       \n",
      "_________________________________________________________________\n",
      "conv3d_1 (Conv3D)            (None, 21, 21, 20, 16)    5776      \n",
      "_________________________________________________________________\n",
      "conv3d_2 (Conv3D)            (None, 19, 19, 18, 32)    13856     \n",
      "_________________________________________________________________\n",
      "reshape (Reshape)            (None, 19, 19, 576)       0         \n",
      "_________________________________________________________________\n",
      "conv2d (Conv2D)              (None, 17, 17, 64)        331840    \n",
      "_________________________________________________________________\n",
      "flatten (Flatten)            (None, 18496)             0         \n",
      "_________________________________________________________________\n",
      "dense (Dense)                (None, 256)               4735232   \n",
      "_________________________________________________________________\n",
      "dropout (Dropout)            (None, 256)               0         \n",
      "_________________________________________________________________\n",
      "dense_1 (Dense)              (None, 128)               32896     \n",
      "_________________________________________________________________\n",
      "dropout_1 (Dropout)          (None, 128)               0         \n",
      "_________________________________________________________________\n",
      "dense_2 (Dense)              (None, 16)                2064      \n",
      "=================================================================\n",
      "Total params: 5,122,176\n",
      "Trainable params: 5,122,176\n",
      "Non-trainable params: 0\n",
      "_________________________________________________________________\n"
     ]
    }
   ],
   "source": [
    "model.summary()"
   ]
  },
  {
   "cell_type": "code",
   "execution_count": 19,
   "metadata": {},
   "outputs": [],
   "source": [
    "# compiling the model\n",
    "adam = Adam(learning_rate=0.001, decay=1e-06)\n",
    "model.compile(loss='categorical_crossentropy', optimizer=adam, metrics=['accuracy'])"
   ]
  },
  {
   "cell_type": "code",
   "execution_count": 20,
   "metadata": {},
   "outputs": [],
   "source": [
    "# checkpoint\n",
    "filepath = \"best-model.hdf5\"\n",
    "checkpoint = ModelCheckpoint(filepath, monitor='acc', verbose=1, save_best_only=False, mode='max')\n",
    "callbacks_list = [checkpoint]"
   ]
  },
  {
   "cell_type": "code",
   "execution_count": 21,
   "metadata": {
    "collapsed": true,
    "jupyter": {
     "outputs_hidden": true
    },
    "tags": []
   },
   "outputs": [
    {
     "name": "stdout",
     "output_type": "stream",
     "text": [
      "Epoch 1/100\n",
      "13/13 [==============================] - 11s 445ms/step - loss: 2.5563 - accuracy: 0.1936\n",
      "\n",
      "Epoch 00001: saving model to best-model.hdf5\n",
      "Epoch 2/100\n",
      "13/13 [==============================] - 6s 432ms/step - loss: 1.9549 - accuracy: 0.3533\n",
      "\n",
      "Epoch 00002: saving model to best-model.hdf5\n",
      "Epoch 3/100\n",
      "13/13 [==============================] - 6s 434ms/step - loss: 1.3164 - accuracy: 0.5566\n",
      "\n",
      "Epoch 00003: saving model to best-model.hdf5\n",
      "Epoch 4/100\n",
      "13/13 [==============================] - 6s 434ms/step - loss: 0.8905 - accuracy: 0.6981\n",
      "\n",
      "Epoch 00004: saving model to best-model.hdf5\n",
      "Epoch 5/100\n",
      "13/13 [==============================] - 6s 435ms/step - loss: 0.6312 - accuracy: 0.7938\n",
      "\n",
      "Epoch 00005: saving model to best-model.hdf5\n",
      "Epoch 6/100\n",
      "13/13 [==============================] - 6s 433ms/step - loss: 0.3497 - accuracy: 0.8878\n",
      "\n",
      "Epoch 00006: saving model to best-model.hdf5\n",
      "Epoch 7/100\n",
      "13/13 [==============================] - 6s 436ms/step - loss: 0.3288 - accuracy: 0.9047\n",
      "\n",
      "Epoch 00007: saving model to best-model.hdf5\n",
      "Epoch 8/100\n",
      "13/13 [==============================] - 6s 436ms/step - loss: 0.2256 - accuracy: 0.9317\n",
      "\n",
      "Epoch 00008: saving model to best-model.hdf5\n",
      "Epoch 9/100\n",
      "13/13 [==============================] - 6s 435ms/step - loss: 0.1210 - accuracy: 0.9616\n",
      "\n",
      "Epoch 00009: saving model to best-model.hdf5\n",
      "Epoch 10/100\n",
      "13/13 [==============================] - 6s 435ms/step - loss: 0.0819 - accuracy: 0.9733\n",
      "\n",
      "Epoch 00010: saving model to best-model.hdf5\n",
      "Epoch 11/100\n",
      "13/13 [==============================] - 6s 435ms/step - loss: 0.0564 - accuracy: 0.9828\n",
      "\n",
      "Epoch 00011: saving model to best-model.hdf5\n",
      "Epoch 12/100\n",
      "13/13 [==============================] - 6s 435ms/step - loss: 0.0557 - accuracy: 0.9847\n",
      "\n",
      "Epoch 00012: saving model to best-model.hdf5\n",
      "Epoch 13/100\n",
      "13/13 [==============================] - 6s 435ms/step - loss: 0.0358 - accuracy: 0.9883\n",
      "\n",
      "Epoch 00013: saving model to best-model.hdf5\n",
      "Epoch 14/100\n",
      "13/13 [==============================] - 6s 438ms/step - loss: 0.0343 - accuracy: 0.9902\n",
      "\n",
      "Epoch 00014: saving model to best-model.hdf5\n",
      "Epoch 15/100\n",
      "13/13 [==============================] - 6s 436ms/step - loss: 0.0452 - accuracy: 0.9867\n",
      "\n",
      "Epoch 00015: saving model to best-model.hdf5\n",
      "Epoch 16/100\n",
      "13/13 [==============================] - 6s 438ms/step - loss: 0.0341 - accuracy: 0.9909\n",
      "\n",
      "Epoch 00016: saving model to best-model.hdf5\n",
      "Epoch 17/100\n",
      "13/13 [==============================] - 6s 438ms/step - loss: 0.0270 - accuracy: 0.9932\n",
      "\n",
      "Epoch 00017: saving model to best-model.hdf5\n",
      "Epoch 18/100\n",
      "13/13 [==============================] - 6s 440ms/step - loss: 0.0170 - accuracy: 0.9945\n",
      "\n",
      "Epoch 00018: saving model to best-model.hdf5\n",
      "Epoch 19/100\n",
      "13/13 [==============================] - 6s 438ms/step - loss: 0.0335 - accuracy: 0.9889\n",
      "\n",
      "Epoch 00019: saving model to best-model.hdf5\n",
      "Epoch 20/100\n",
      "13/13 [==============================] - 6s 438ms/step - loss: 0.0524 - accuracy: 0.9873\n",
      "\n",
      "Epoch 00020: saving model to best-model.hdf5\n",
      "Epoch 21/100\n",
      "13/13 [==============================] - 6s 439ms/step - loss: 0.0298 - accuracy: 0.9906\n",
      "\n",
      "Epoch 00021: saving model to best-model.hdf5\n",
      "Epoch 22/100\n",
      "13/13 [==============================] - 6s 438ms/step - loss: 0.0462 - accuracy: 0.9886\n",
      "\n",
      "Epoch 00022: saving model to best-model.hdf5\n",
      "Epoch 23/100\n",
      "13/13 [==============================] - 6s 439ms/step - loss: 0.0320 - accuracy: 0.9902\n",
      "\n",
      "Epoch 00023: saving model to best-model.hdf5\n",
      "Epoch 24/100\n",
      "13/13 [==============================] - 6s 438ms/step - loss: 0.0283 - accuracy: 0.9915\n",
      "\n",
      "Epoch 00024: saving model to best-model.hdf5\n",
      "Epoch 25/100\n",
      "13/13 [==============================] - 6s 437ms/step - loss: 0.0207 - accuracy: 0.9948\n",
      "\n",
      "Epoch 00025: saving model to best-model.hdf5\n",
      "Epoch 26/100\n",
      "13/13 [==============================] - 6s 438ms/step - loss: 0.0240 - accuracy: 0.9928\n",
      "\n",
      "Epoch 00026: saving model to best-model.hdf5\n",
      "Epoch 27/100\n",
      "13/13 [==============================] - 6s 438ms/step - loss: 0.0160 - accuracy: 0.9941\n",
      "\n",
      "Epoch 00027: saving model to best-model.hdf5\n",
      "Epoch 28/100\n",
      "13/13 [==============================] - 6s 438ms/step - loss: 0.0144 - accuracy: 0.9961\n",
      "\n",
      "Epoch 00028: saving model to best-model.hdf5\n",
      "Epoch 29/100\n",
      "13/13 [==============================] - 6s 440ms/step - loss: 0.0102 - accuracy: 0.9974\n",
      "\n",
      "Epoch 00029: saving model to best-model.hdf5\n",
      "Epoch 30/100\n",
      "13/13 [==============================] - 6s 440ms/step - loss: 0.0104 - accuracy: 0.9961\n",
      "\n",
      "Epoch 00030: saving model to best-model.hdf5\n",
      "Epoch 31/100\n",
      "13/13 [==============================] - 6s 438ms/step - loss: 0.0124 - accuracy: 0.9974\n",
      "\n",
      "Epoch 00031: saving model to best-model.hdf5\n",
      "Epoch 32/100\n",
      "13/13 [==============================] - 6s 438ms/step - loss: 0.0045 - accuracy: 0.9987\n",
      "\n",
      "Epoch 00032: saving model to best-model.hdf5\n",
      "Epoch 33/100\n",
      "13/13 [==============================] - 6s 439ms/step - loss: 0.0053 - accuracy: 0.9993\n",
      "\n",
      "Epoch 00033: saving model to best-model.hdf5\n",
      "Epoch 34/100\n",
      "13/13 [==============================] - 6s 439ms/step - loss: 0.0069 - accuracy: 0.9980\n",
      "\n",
      "Epoch 00034: saving model to best-model.hdf5\n",
      "Epoch 35/100\n",
      "13/13 [==============================] - 6s 438ms/step - loss: 0.0075 - accuracy: 0.9967\n",
      "\n",
      "Epoch 00035: saving model to best-model.hdf5\n",
      "Epoch 36/100\n",
      "13/13 [==============================] - 6s 439ms/step - loss: 0.0072 - accuracy: 0.9984\n",
      "\n",
      "Epoch 00036: saving model to best-model.hdf5\n",
      "Epoch 37/100\n",
      "13/13 [==============================] - 6s 440ms/step - loss: 0.0070 - accuracy: 0.9974\n",
      "\n",
      "Epoch 00037: saving model to best-model.hdf5\n",
      "Epoch 38/100\n",
      "13/13 [==============================] - 6s 439ms/step - loss: 0.0112 - accuracy: 0.9967\n",
      "\n",
      "Epoch 00038: saving model to best-model.hdf5\n",
      "Epoch 39/100\n",
      "13/13 [==============================] - 6s 438ms/step - loss: 0.0075 - accuracy: 0.9971\n",
      "\n",
      "Epoch 00039: saving model to best-model.hdf5\n",
      "Epoch 40/100\n",
      "13/13 [==============================] - 6s 438ms/step - loss: 0.0180 - accuracy: 0.9971\n",
      "\n",
      "Epoch 00040: saving model to best-model.hdf5\n",
      "Epoch 41/100\n",
      "13/13 [==============================] - 6s 442ms/step - loss: 0.0109 - accuracy: 0.9964\n",
      "\n",
      "Epoch 00041: saving model to best-model.hdf5\n",
      "Epoch 42/100\n",
      "13/13 [==============================] - 6s 440ms/step - loss: 0.0095 - accuracy: 0.9964\n",
      "\n",
      "Epoch 00042: saving model to best-model.hdf5\n",
      "Epoch 43/100\n",
      "13/13 [==============================] - 6s 440ms/step - loss: 0.0112 - accuracy: 0.9967\n",
      "\n",
      "Epoch 00043: saving model to best-model.hdf5\n",
      "Epoch 44/100\n",
      "13/13 [==============================] - 6s 441ms/step - loss: 0.0113 - accuracy: 0.9964\n",
      "\n",
      "Epoch 00044: saving model to best-model.hdf5\n",
      "Epoch 45/100\n",
      "13/13 [==============================] - 6s 441ms/step - loss: 0.0203 - accuracy: 0.9945\n",
      "\n",
      "Epoch 00045: saving model to best-model.hdf5\n",
      "Epoch 46/100\n",
      "13/13 [==============================] - 6s 441ms/step - loss: 0.0127 - accuracy: 0.9967\n",
      "\n",
      "Epoch 00046: saving model to best-model.hdf5\n",
      "Epoch 47/100\n",
      "13/13 [==============================] - 6s 443ms/step - loss: 0.0188 - accuracy: 0.9932\n",
      "\n",
      "Epoch 00047: saving model to best-model.hdf5\n",
      "Epoch 48/100\n",
      "13/13 [==============================] - 6s 443ms/step - loss: 0.0145 - accuracy: 0.9954\n",
      "\n",
      "Epoch 00048: saving model to best-model.hdf5\n",
      "Epoch 49/100\n",
      "13/13 [==============================] - 6s 442ms/step - loss: 0.0111 - accuracy: 0.9967\n",
      "\n",
      "Epoch 00049: saving model to best-model.hdf5\n",
      "Epoch 50/100\n",
      "13/13 [==============================] - 6s 443ms/step - loss: 0.0089 - accuracy: 0.9977\n",
      "\n",
      "Epoch 00050: saving model to best-model.hdf5\n",
      "Epoch 51/100\n",
      "13/13 [==============================] - 6s 441ms/step - loss: 0.0044 - accuracy: 0.9987\n",
      "\n",
      "Epoch 00051: saving model to best-model.hdf5\n",
      "Epoch 52/100\n",
      "13/13 [==============================] - 6s 442ms/step - loss: 0.0053 - accuracy: 0.9980\n",
      "\n",
      "Epoch 00052: saving model to best-model.hdf5\n",
      "Epoch 53/100\n",
      "13/13 [==============================] - 6s 441ms/step - loss: 0.0147 - accuracy: 0.9958\n",
      "\n",
      "Epoch 00053: saving model to best-model.hdf5\n",
      "Epoch 54/100\n",
      "13/13 [==============================] - 6s 442ms/step - loss: 0.0126 - accuracy: 0.9961\n",
      "\n",
      "Epoch 00054: saving model to best-model.hdf5\n",
      "Epoch 55/100\n",
      "13/13 [==============================] - 6s 441ms/step - loss: 0.0071 - accuracy: 0.9977\n",
      "\n",
      "Epoch 00055: saving model to best-model.hdf5\n",
      "Epoch 56/100\n",
      "13/13 [==============================] - 6s 442ms/step - loss: 0.0144 - accuracy: 0.9951\n",
      "\n",
      "Epoch 00056: saving model to best-model.hdf5\n",
      "Epoch 57/100\n",
      "13/13 [==============================] - 6s 442ms/step - loss: 0.0161 - accuracy: 0.9964\n",
      "\n",
      "Epoch 00057: saving model to best-model.hdf5\n",
      "Epoch 58/100\n",
      "13/13 [==============================] - 6s 443ms/step - loss: 0.0105 - accuracy: 0.9974\n",
      "\n",
      "Epoch 00058: saving model to best-model.hdf5\n",
      "Epoch 59/100\n",
      "13/13 [==============================] - 6s 445ms/step - loss: 0.0080 - accuracy: 0.9984\n",
      "\n",
      "Epoch 00059: saving model to best-model.hdf5\n",
      "Epoch 60/100\n",
      "13/13 [==============================] - 6s 444ms/step - loss: 0.0070 - accuracy: 0.9993\n",
      "\n",
      "Epoch 00060: saving model to best-model.hdf5\n",
      "Epoch 61/100\n",
      "13/13 [==============================] - 6s 444ms/step - loss: 0.0054 - accuracy: 0.9987\n",
      "\n",
      "Epoch 00061: saving model to best-model.hdf5\n",
      "Epoch 62/100\n",
      "13/13 [==============================] - 6s 441ms/step - loss: 0.0043 - accuracy: 0.9987\n",
      "\n",
      "Epoch 00062: saving model to best-model.hdf5\n",
      "Epoch 63/100\n",
      "13/13 [==============================] - 6s 446ms/step - loss: 0.0068 - accuracy: 0.9980\n",
      "\n",
      "Epoch 00063: saving model to best-model.hdf5\n",
      "Epoch 64/100\n",
      "13/13 [==============================] - 6s 442ms/step - loss: 0.0056 - accuracy: 0.9977\n",
      "\n",
      "Epoch 00064: saving model to best-model.hdf5\n",
      "Epoch 65/100\n",
      "13/13 [==============================] - 6s 442ms/step - loss: 0.0091 - accuracy: 0.9980\n",
      "\n",
      "Epoch 00065: saving model to best-model.hdf5\n",
      "Epoch 66/100\n",
      "13/13 [==============================] - 6s 443ms/step - loss: 0.0047 - accuracy: 0.9984\n",
      "\n",
      "Epoch 00066: saving model to best-model.hdf5\n",
      "Epoch 67/100\n",
      "13/13 [==============================] - 6s 444ms/step - loss: 0.0018 - accuracy: 0.9997\n",
      "\n",
      "Epoch 00067: saving model to best-model.hdf5\n",
      "Epoch 68/100\n",
      "13/13 [==============================] - 6s 443ms/step - loss: 0.0035 - accuracy: 0.9990\n",
      "\n",
      "Epoch 00068: saving model to best-model.hdf5\n",
      "Epoch 69/100\n",
      "13/13 [==============================] - 6s 444ms/step - loss: 0.0063 - accuracy: 0.9987\n",
      "\n",
      "Epoch 00069: saving model to best-model.hdf5\n",
      "Epoch 70/100\n",
      "13/13 [==============================] - 6s 444ms/step - loss: 0.0083 - accuracy: 0.9980\n",
      "\n",
      "Epoch 00070: saving model to best-model.hdf5\n",
      "Epoch 71/100\n",
      "13/13 [==============================] - 6s 442ms/step - loss: 0.0038 - accuracy: 0.9993\n",
      "\n",
      "Epoch 00071: saving model to best-model.hdf5\n",
      "Epoch 72/100\n",
      "13/13 [==============================] - 6s 443ms/step - loss: 0.0068 - accuracy: 0.9990\n",
      "\n",
      "Epoch 00072: saving model to best-model.hdf5\n",
      "Epoch 73/100\n",
      "13/13 [==============================] - 6s 442ms/step - loss: 0.0039 - accuracy: 0.9990\n",
      "\n",
      "Epoch 00073: saving model to best-model.hdf5\n",
      "Epoch 74/100\n",
      "13/13 [==============================] - 6s 443ms/step - loss: 0.0041 - accuracy: 0.9980\n",
      "\n",
      "Epoch 00074: saving model to best-model.hdf5\n",
      "Epoch 75/100\n",
      "13/13 [==============================] - 6s 443ms/step - loss: 0.0066 - accuracy: 0.9984\n",
      "\n",
      "Epoch 00075: saving model to best-model.hdf5\n",
      "Epoch 76/100\n",
      "13/13 [==============================] - 6s 444ms/step - loss: 0.0032 - accuracy: 0.9990\n",
      "\n",
      "Epoch 00076: saving model to best-model.hdf5\n",
      "Epoch 77/100\n",
      "13/13 [==============================] - 6s 444ms/step - loss: 0.0033 - accuracy: 0.9984\n",
      "\n",
      "Epoch 00077: saving model to best-model.hdf5\n",
      "Epoch 78/100\n",
      "13/13 [==============================] - 6s 443ms/step - loss: 0.0063 - accuracy: 0.9987\n",
      "\n",
      "Epoch 00078: saving model to best-model.hdf5\n",
      "Epoch 79/100\n",
      "13/13 [==============================] - 6s 443ms/step - loss: 0.0037 - accuracy: 0.9980\n",
      "\n",
      "Epoch 00079: saving model to best-model.hdf5\n",
      "Epoch 80/100\n",
      "13/13 [==============================] - 6s 445ms/step - loss: 0.0081 - accuracy: 0.9987\n",
      "\n",
      "Epoch 00080: saving model to best-model.hdf5\n",
      "Epoch 81/100\n",
      "13/13 [==============================] - 6s 443ms/step - loss: 0.0176 - accuracy: 0.9967\n",
      "\n",
      "Epoch 00081: saving model to best-model.hdf5\n",
      "Epoch 82/100\n",
      "13/13 [==============================] - 6s 443ms/step - loss: 0.0059 - accuracy: 0.9984\n",
      "\n",
      "Epoch 00082: saving model to best-model.hdf5\n",
      "Epoch 83/100\n",
      "13/13 [==============================] - 6s 442ms/step - loss: 0.0055 - accuracy: 0.9987\n",
      "\n",
      "Epoch 00083: saving model to best-model.hdf5\n",
      "Epoch 84/100\n",
      "13/13 [==============================] - 6s 443ms/step - loss: 0.0060 - accuracy: 0.9980\n",
      "\n",
      "Epoch 00084: saving model to best-model.hdf5\n",
      "Epoch 85/100\n",
      "13/13 [==============================] - 6s 444ms/step - loss: 0.0120 - accuracy: 0.9980\n",
      "\n",
      "Epoch 00085: saving model to best-model.hdf5\n",
      "Epoch 86/100\n",
      "13/13 [==============================] - 6s 445ms/step - loss: 0.0067 - accuracy: 0.9977\n",
      "\n",
      "Epoch 00086: saving model to best-model.hdf5\n",
      "Epoch 87/100\n",
      "13/13 [==============================] - 6s 444ms/step - loss: 0.0043 - accuracy: 0.9987\n",
      "\n",
      "Epoch 00087: saving model to best-model.hdf5\n",
      "Epoch 88/100\n",
      "13/13 [==============================] - 6s 443ms/step - loss: 0.0053 - accuracy: 0.9984\n",
      "\n",
      "Epoch 00088: saving model to best-model.hdf5\n",
      "Epoch 89/100\n",
      "13/13 [==============================] - 6s 445ms/step - loss: 0.0078 - accuracy: 0.9980\n",
      "\n",
      "Epoch 00089: saving model to best-model.hdf5\n",
      "Epoch 90/100\n",
      "13/13 [==============================] - 6s 445ms/step - loss: 0.0060 - accuracy: 0.9980\n",
      "\n",
      "Epoch 00090: saving model to best-model.hdf5\n",
      "Epoch 91/100\n",
      "13/13 [==============================] - 6s 443ms/step - loss: 0.0115 - accuracy: 0.9974\n",
      "\n",
      "Epoch 00091: saving model to best-model.hdf5\n",
      "Epoch 92/100\n",
      "13/13 [==============================] - 6s 442ms/step - loss: 0.0028 - accuracy: 0.9993\n",
      "\n",
      "Epoch 00092: saving model to best-model.hdf5\n",
      "Epoch 93/100\n",
      "13/13 [==============================] - 6s 441ms/step - loss: 0.0030 - accuracy: 0.9990\n",
      "\n",
      "Epoch 00093: saving model to best-model.hdf5\n",
      "Epoch 94/100\n",
      "13/13 [==============================] - 6s 442ms/step - loss: 0.0029 - accuracy: 0.9987\n",
      "\n",
      "Epoch 00094: saving model to best-model.hdf5\n",
      "Epoch 95/100\n",
      "13/13 [==============================] - 6s 442ms/step - loss: 0.0075 - accuracy: 0.9987\n",
      "\n",
      "Epoch 00095: saving model to best-model.hdf5\n",
      "Epoch 96/100\n",
      "13/13 [==============================] - 6s 443ms/step - loss: 0.0063 - accuracy: 0.9990\n",
      "\n",
      "Epoch 00096: saving model to best-model.hdf5\n",
      "Epoch 97/100\n",
      "13/13 [==============================] - 6s 445ms/step - loss: 0.0052 - accuracy: 0.9987\n",
      "\n",
      "Epoch 00097: saving model to best-model.hdf5\n",
      "Epoch 98/100\n",
      "13/13 [==============================] - 6s 442ms/step - loss: 0.0097 - accuracy: 0.9974\n",
      "\n",
      "Epoch 00098: saving model to best-model.hdf5\n",
      "Epoch 99/100\n",
      "13/13 [==============================] - 6s 442ms/step - loss: 0.0116 - accuracy: 0.9967\n",
      "\n",
      "Epoch 00099: saving model to best-model.hdf5\n",
      "Epoch 100/100\n",
      "13/13 [==============================] - 6s 439ms/step - loss: 0.0107 - accuracy: 0.9974\n",
      "\n",
      "Epoch 00100: saving model to best-model.hdf5\n"
     ]
    }
   ],
   "source": [
    "history = model.fit(x=Xtrain, y=ytrain, batch_size=256, epochs=100, callbacks=callbacks_list)"
   ]
  },
  {
   "cell_type": "markdown",
   "metadata": {},
   "source": [
    "plt.figure(figsize=(7,7))\n",
    "plt.grid()\n",
    "plt.plot(history.history['loss'])\n",
    "#plt.plot(history.history['val_loss'])\n",
    "plt.ylabel('Loss')\n",
    "plt.xlabel('Epochs')\n",
    "plt.legend(['Training','Validation'], loc='upper right')\n",
    "plt.savefig(\"loss_curve.pdf\")\n",
    "plt.show()"
   ]
  },
  {
   "cell_type": "markdown",
   "metadata": {},
   "source": [
    "plt.figure(figsize=(5,5))\n",
    "plt.ylim(0,1.1)\n",
    "plt.grid()\n",
    "plt.plot(history.history['acc'])\n",
    "#plt.plot(history.history['val_acc'])\n",
    "plt.ylabel('Accuracy')\n",
    "plt.xlabel('Epochs')\n",
    "plt.legend(['Training','Validation'])\n",
    "plt.savefig(\"acc_curve.pdf\")\n",
    "plt.show()"
   ]
  },
  {
   "cell_type": "code",
   "execution_count": 50,
   "metadata": {},
   "outputs": [
    {
     "name": "stdout",
     "output_type": "stream",
     "text": [
      "dict_keys(['loss', 'accuracy'])\n"
     ]
    },
    {
     "data": {
      "image/png": "[encoded data removed]",
      "text/plain": [
       "<Figure size 432x288 with 1 Axes>"
      ]
     },
     "metadata": {
      "needs_background": "light"
     },
     "output_type": "display_data"
    },
    {
     "data": {
      "image/png": "[encoded data removed]",
      "text/plain": [
       "<Figure size 432x288 with 1 Axes>"
      ]
     },
     "metadata": {
      "needs_background": "light"
     },
     "output_type": "display_data"
    }
   ],
   "source": [
    "# list all data in history\n",
    "print(history.history.keys())\n",
    "# summarize history for accuracy\n",
    "plt.plot(history.history['accuracy'])\n",
    "plt.title('model accuracy')\n",
    "plt.ylabel('accuracy')\n",
    "plt.xlabel('epoch')\n",
    "plt.legend(['train', 'test'], loc='lower right')\n",
    "plt.show()\n",
    "# summarize history for loss\n",
    "plt.plot(history.history['loss'])\n",
    "plt.title('model loss')\n",
    "plt.ylabel('loss')\n",
    "plt.xlabel('epoch')\n",
    "plt.legend(['train', 'test'], loc='upper left')\n",
    "plt.show()"
   ]
  },
  {
   "cell_type": "markdown",
   "metadata": {},
   "source": [
    "# Validation"
   ]
  },
  {
   "cell_type": "code",
   "execution_count": 23,
   "metadata": {},
   "outputs": [],
   "source": [
    "# load best weights\n",
    "model.load_weights(\"best-model.hdf5\")\n",
    "model.compile(loss='categorical_crossentropy', optimizer=adam, metrics=['accuracy'])"
   ]
  },
  {
   "cell_type": "code",
   "execution_count": 24,
   "metadata": {},
   "outputs": [
    {
     "data": {
      "text/plain": [
       "(7175, 25, 25, 30, 1)"
      ]
     },
     "execution_count": 24,
     "metadata": {},
     "output_type": "execute_result"
    }
   ],
   "source": [
    "Xtest = Xtest.reshape(-1, windowSize, windowSize, K, 1)\n",
    "Xtest.shape"
   ]
  },
  {
   "cell_type": "code",
   "execution_count": 25,
   "metadata": {},
   "outputs": [
    {
     "data": {
      "text/plain": [
       "(7175, 16)"
      ]
     },
     "execution_count": 25,
     "metadata": {},
     "output_type": "execute_result"
    }
   ],
   "source": [
    "ytest = np_utils.to_categorical(ytest)\n",
    "ytest.shape"
   ]
  },
  {
   "cell_type": "code",
   "execution_count": 26,
   "metadata": {},
   "outputs": [
    {
     "name": "stdout",
     "output_type": "stream",
     "text": [
      "              precision    recall  f1-score   support\n",
      "\n",
      "           0       1.00      1.00      1.00        32\n",
      "           1       1.00      0.99      1.00      1000\n",
      "           2       1.00      1.00      1.00       581\n",
      "           3       1.00      1.00      1.00       166\n",
      "           4       1.00      0.99      1.00       338\n",
      "           5       1.00      1.00      1.00       511\n",
      "           6       1.00      1.00      1.00        20\n",
      "           7       1.00      1.00      1.00       335\n",
      "           8       1.00      1.00      1.00        14\n",
      "           9       1.00      1.00      1.00       680\n",
      "          10       1.00      1.00      1.00      1719\n",
      "          11       1.00      1.00      1.00       415\n",
      "          12       0.98      1.00      0.99       143\n",
      "          13       1.00      1.00      1.00       886\n",
      "          14       1.00      1.00      1.00       270\n",
      "          15       1.00      0.98      0.99        65\n",
      "\n",
      "    accuracy                           1.00      7175\n",
      "   macro avg       1.00      1.00      1.00      7175\n",
      "weighted avg       1.00      1.00      1.00      7175\n",
      "\n"
     ]
    }
   ],
   "source": [
    "Y_pred_test = model.predict(Xtest)\n",
    "y_pred_test = np.argmax(Y_pred_test, axis=1)\n",
    "\n",
    "classification = classification_report(np.argmax(ytest, axis=1), y_pred_test)\n",
    "print(classification)"
   ]
  },
  {
   "cell_type": "code",
   "execution_count": 27,
   "metadata": {},
   "outputs": [],
   "source": [
    "def AA_andEachClassAccuracy(confusion_matrix):\n",
    "    counter = confusion_matrix.shape[0]\n",
    "    list_diag = np.diag(confusion_matrix)\n",
    "    list_raw_sum = np.sum(confusion_matrix, axis=1)\n",
    "    each_acc = np.nan_to_num(truediv(list_diag, list_raw_sum))\n",
    "    average_acc = np.mean(each_acc)\n",
    "    return each_acc, average_acc"
   ]
  },
  {
   "cell_type": "code",
   "execution_count": 28,
   "metadata": {},
   "outputs": [],
   "source": [
    "def reports (X_test,y_test,name):\n",
    "    #start = time.time()\n",
    "    Y_pred = model.predict(X_test)\n",
    "    y_pred = np.argmax(Y_pred, axis=1)\n",
    "    #end = time.time()\n",
    "    #print(end - start)\n",
    "    if name == 'IP':\n",
    "        target_names = ['Alfalfa', 'Corn-notill', 'Corn-mintill', 'Corn'\n",
    "                        ,'Grass-pasture', 'Grass-trees', 'Grass-pasture-mowed', \n",
    "                        'Hay-windrowed', 'Oats', 'Soybean-notill', 'Soybean-mintill',\n",
    "                        'Soybean-clean', 'Wheat', 'Woods', 'Buildings-Grass-Trees-Drives',\n",
    "                        'Stone-Steel-Towers']\n",
    "    elif name == 'SA':\n",
    "        target_names = ['Brocoli_green_weeds_1','Brocoli_green_weeds_2','Fallow','Fallow_rough_plow','Fallow_smooth',\n",
    "                        'Stubble','Celery','Grapes_untrained','Soil_vinyard_develop','Corn_senesced_green_weeds',\n",
    "                        'Lettuce_romaine_4wk','Lettuce_romaine_5wk','Lettuce_romaine_6wk','Lettuce_romaine_7wk',\n",
    "                        'Vinyard_untrained','Vinyard_vertical_trellis']\n",
    "    elif name == 'PU':\n",
    "        target_names = ['Asphalt','Meadows','Gravel','Trees', 'Painted metal sheets','Bare Soil','Bitumen',\n",
    "                        'Self-Blocking Bricks','Shadows']\n",
    "    \n",
    "    classification = classification_report(np.argmax(y_test, axis=1), y_pred, target_names=target_names)\n",
    "    oa = accuracy_score(np.argmax(y_test, axis=1), y_pred)\n",
    "    confusion = confusion_matrix(np.argmax(y_test, axis=1), y_pred)\n",
    "    each_acc, aa = AA_andEachClassAccuracy(confusion)\n",
    "    kappa = cohen_kappa_score(np.argmax(y_test, axis=1), y_pred)\n",
    "    score = model.evaluate(X_test, y_test, batch_size=32)\n",
    "    Test_Loss =  score[0]*100\n",
    "    Test_accuracy = score[1]*100\n",
    "    \n",
    "    return classification, confusion, Test_Loss, Test_accuracy, oa*100, each_acc*100, aa*100, kappa*100"
   ]
  },
  {
   "cell_type": "code",
   "execution_count": 29,
   "metadata": {},
   "outputs": [
    {
     "name": "stdout",
     "output_type": "stream",
     "text": [
      "225/225 [==============================] - 6s 25ms/step - loss: 0.0087 - accuracy: 0.9983\n"
     ]
    }
   ],
   "source": [
    "classification, confusion, Test_loss, Test_accuracy, oa, each_acc, aa, kappa = reports(Xtest,ytest,dataset)\n",
    "classification = str(classification)\n",
    "confusion = str(confusion)\n",
    "file_name = \"classification_report.txt\"\n",
    "\n",
    "with open(file_name, 'w') as x_file:\n",
    "    x_file.write('{} Test loss (%)'.format(Test_loss))\n",
    "    x_file.write('\\n')\n",
    "    x_file.write('{} Test accuracy (%)'.format(Test_accuracy))\n",
    "    x_file.write('\\n')\n",
    "    x_file.write('\\n')\n",
    "    x_file.write('{} Kappa accuracy (%)'.format(kappa))\n",
    "    x_file.write('\\n')\n",
    "    x_file.write('{} Overall accuracy (%)'.format(oa))\n",
    "    x_file.write('\\n')\n",
    "    x_file.write('{} Average accuracy (%)'.format(aa))\n",
    "    x_file.write('\\n')\n",
    "    x_file.write('\\n')\n",
    "    x_file.write('{}'.format(classification))\n",
    "    x_file.write('\\n')\n",
    "    x_file.write('{}'.format(confusion))"
   ]
  },
  {
   "cell_type": "code",
   "execution_count": 30,
   "metadata": {},
   "outputs": [],
   "source": [
    "def Patch(data,height_index,width_index):\n",
    "    height_slice = slice(height_index, height_index+PATCH_SIZE)\n",
    "    width_slice = slice(width_index, width_index+PATCH_SIZE)\n",
    "    patch = data[height_slice, width_slice, :]\n",
    "    \n",
    "    return patch"
   ]
  },
  {
   "cell_type": "code",
   "execution_count": 31,
   "metadata": {},
   "outputs": [],
   "source": [
    "# load the original image\n",
    "X, y = loadData(dataset)"
   ]
  },
  {
   "cell_type": "code",
   "execution_count": 32,
   "metadata": {},
   "outputs": [],
   "source": [
    "height = y.shape[0]\n",
    "width = y.shape[1]\n",
    "PATCH_SIZE = windowSize\n",
    "numComponents = K"
   ]
  },
  {
   "cell_type": "code",
   "execution_count": 33,
   "metadata": {},
   "outputs": [],
   "source": [
    "X,pca = applyPCA(X, numComponents=numComponents)"
   ]
  },
  {
   "cell_type": "code",
   "execution_count": 34,
   "metadata": {},
   "outputs": [],
   "source": [
    "X = padWithZeros(X, PATCH_SIZE//2)"
   ]
  },
  {
   "cell_type": "code",
   "execution_count": 35,
   "metadata": {},
   "outputs": [],
   "source": [
    "# calculate the predicted image\n",
    "outputs = np.zeros((height,width))\n",
    "for i in range(height):\n",
    "    for j in range(width):\n",
    "        target = int(y[i,j])\n",
    "        if target == 0 :\n",
    "            continue\n",
    "        else :\n",
    "            image_patch=Patch(X,i,j)\n",
    "            X_test_image = image_patch.reshape(1,image_patch.shape[0],image_patch.shape[1], image_patch.shape[2], 1).astype('float32')                                   \n",
    "            prediction = (model.predict(X_test_image))\n",
    "            prediction = np.argmax(prediction, axis=1)\n",
    "            outputs[i][j] = prediction+1"
   ]
  },
  {
   "cell_type": "code",
   "execution_count": 36,
   "metadata": {},
   "outputs": [
    {
     "data": {
      "image/png": "[encoded data removed]",
      "text/plain": [
       "<Figure size 504x504 with 1 Axes>"
      ]
     },
     "metadata": {
      "needs_background": "light"
     },
     "output_type": "display_data"
    }
   ],
   "source": [
    "ground_truth = spectral.imshow(classes = y,figsize =(7,7))"
   ]
  },
  {
   "cell_type": "code",
   "execution_count": 37,
   "metadata": {},
   "outputs": [
    {
     "data": {
      "image/png": "[encoded data removed]",
      "text/plain": [
       "<Figure size 504x504 with 1 Axes>"
      ]
     },
     "metadata": {
      "needs_background": "light"
     },
     "output_type": "display_data"
    }
   ],
   "source": [
    "predict_image = spectral.imshow(classes = outputs.astype(int),figsize =(7,7))"
   ]
  },
  {
   "cell_type": "code",
   "execution_count": 38,
   "metadata": {},
   "outputs": [],
   "source": [
    "spectral.save_rgb(\"predictions.jpg\", outputs.astype(int), colors=spectral.spy_colors)"
   ]
  },
  {
   "cell_type": "markdown",
   "metadata": {},
   "source": [
    "spectral.save_rgb(str(dataset)+\"_ground_truth.jpg\", y, colors=spectral.spy_colors)"
   ]
  },
  {
   "cell_type": "code",
   "execution_count": null,
   "metadata": {},
   "outputs": [],
   "source": []
  }
 ],
 "metadata": {
  "kernelspec": {
   "display_name": "Python 3 (ipykernel)",
   "language": "python",
   "name": "python3"
  },
  "language_info": {
   "codemirror_mode": {
    "name": "ipython",
    "version": 3
   },
   "file_extension": ".py",
   "mimetype": "text/x-python",
   "name": "python",
   "nbconvert_exporter": "python",
   "pygments_lexer": "ipython3",
   "version": "3.8.10"
  }
 },
 "nbformat": 4,
 "nbformat_minor": 4
}
